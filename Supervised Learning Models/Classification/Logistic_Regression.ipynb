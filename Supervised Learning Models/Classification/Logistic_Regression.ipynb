{
 "cells": [
  {
   "cell_type": "code",
   "execution_count": 1,
   "metadata": {},
   "outputs": [],
   "source": [
    "import numpy as np"
   ]
  },
  {
   "cell_type": "code",
   "execution_count": 11,
   "metadata": {},
   "outputs": [],
   "source": [
    "import numpy as np\n",
    "\n",
    "class Logistic_Regression():\n",
    "    \n",
    "    def __init__(self, learning_rate, no_of_iterations):\n",
    "        self.learning_rate = learning_rate\n",
    "        self.no_of_iterations = no_of_iterations\n",
    "    \n",
    "    def fit(self, X, Y):\n",
    "        # number of data points in the dataset (number of rows) --> m\n",
    "        # number of input features in the dataset (number of columns) ->> n\n",
    "        self.m, self.n = X.shape\n",
    "        \n",
    "        # initiating the bias and weight value\n",
    "        self.w = np.zeros(self.n)\n",
    "        self.b = 0\n",
    "        self.X = X\n",
    "        self.Y = Y\n",
    "        \n",
    "        # implementing gradient descent\n",
    "        for i in range(self.no_of_iterations):\n",
    "            self.update_weights()\n",
    "        \n",
    "    def update_weights(self):\n",
    "        Y_hat = 1 / (1 + np.exp(- (self.X.dot(self.w) + self.b)))  # similar to wX+b\n",
    "        dw = (1 / self.m) * np.dot(self.X.T, (Y_hat - self.Y))\n",
    "        db = (1 / self.m) * np.sum(Y_hat - self.Y)\n",
    "        \n",
    "        # updating the weights and bias using gradient descent\n",
    "        self.w = self.w - self.learning_rate * dw\n",
    "        self.b = self.b - self.learning_rate * db\n",
    "\n",
    "    # sigmoid fucntion\n",
    "    def predict(self, X):\n",
    "        Y_pred = 1 / (1 + np.exp(- (X.dot(self.w) + self.b)))\n",
    "        Y_pred = np.where(Y_pred > 0.5, 1, 0)\n",
    "        return Y_pred\n",
    "    \n",
    "    \n"
   ]
  },
  {
   "cell_type": "code",
   "execution_count": 12,
   "metadata": {},
   "outputs": [],
   "source": [
    "model = Logistic_Regression(learning_rate = 0.01, no_of_iterations = 1000)"
   ]
  },
  {
   "cell_type": "code",
   "execution_count": 13,
   "metadata": {},
   "outputs": [
    {
     "ename": "TypeError",
     "evalue": "Logistic_Regression.fit() missing 2 required positional arguments: 'X' and 'Y'",
     "output_type": "error",
     "traceback": [
      "\u001b[31m---------------------------------------------------------------------------\u001b[39m",
      "\u001b[31mTypeError\u001b[39m                                 Traceback (most recent call last)",
      "\u001b[36mCell\u001b[39m\u001b[36m \u001b[39m\u001b[32mIn[13]\u001b[39m\u001b[32m, line 1\u001b[39m\n\u001b[32m----> \u001b[39m\u001b[32m1\u001b[39m \u001b[43mmodel\u001b[49m\u001b[43m.\u001b[49m\u001b[43mfit\u001b[49m\u001b[43m(\u001b[49m\u001b[43m)\u001b[49m\n",
      "\u001b[31mTypeError\u001b[39m: Logistic_Regression.fit() missing 2 required positional arguments: 'X' and 'Y'"
     ]
    }
   ],
   "source": [
    "model.fit()"
   ]
  }
 ],
 "metadata": {
  "kernelspec": {
   "display_name": ".venv",
   "language": "python",
   "name": "python3"
  },
  "language_info": {
   "codemirror_mode": {
    "name": "ipython",
    "version": 3
   },
   "file_extension": ".py",
   "mimetype": "text/x-python",
   "name": "python",
   "nbconvert_exporter": "python",
   "pygments_lexer": "ipython3",
   "version": "3.13.1"
  }
 },
 "nbformat": 4,
 "nbformat_minor": 2
}
