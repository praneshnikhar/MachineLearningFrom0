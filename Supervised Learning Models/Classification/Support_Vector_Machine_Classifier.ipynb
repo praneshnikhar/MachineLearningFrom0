{
 "cells": [
  {
   "cell_type": "markdown",
   "metadata": {},
   "source": [
    "We have 4 types of kernel in SVM:\n",
    "1) Linear\n",
    "2) Polynomial\n",
    "3) Radial Basis Function (rbf)\n",
    "4) sigmoid"
   ]
  },
  {
   "cell_type": "code",
   "execution_count": null,
   "metadata": {},
   "outputs": [],
   "source": []
  }
 ],
 "metadata": {
  "kernelspec": {
   "display_name": ".venv",
   "language": "python",
   "name": "python3"
  },
  "language_info": {
   "name": "python",
   "version": "3.13.1"
  }
 },
 "nbformat": 4,
 "nbformat_minor": 2
}
