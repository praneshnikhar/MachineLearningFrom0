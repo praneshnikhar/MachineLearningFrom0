{
 "cells": [
  {
   "cell_type": "markdown",
   "metadata": {},
   "source": [
    "We have 4 types of kernel in SVM:\n",
    "1) Linear\n",
    "2) Polynomial\n",
    "3) Radial Basis Function (rbf)\n",
    "4) sigmoid\n",
    "\n",
    "\n",
    "\n",
    "Hinge loss - is a loss function commonly used in machine learning, particularly in Support Vector Machines (SVMs), for binary classification tasks"
   ]
  },
  {
   "cell_type": "code",
   "execution_count": 1,
   "metadata": {},
   "outputs": [],
   "source": [
    "import numpy as np"
   ]
  },
  {
   "cell_type": "code",
   "execution_count": 9,
   "metadata": {},
   "outputs": [],
   "source": [
    "class SVM_classifier():\n",
    "    \n",
    "    \n",
    "    def __init__(self, learning_rate, no_of_iterations, lambda_parameter):\n",
    "        self.learning_rate = learning_rate\n",
    "        self.no_of_iterations = no_of_iterations\n",
    "        self.lambda_parameter = lambda_parameter\n",
    "        \n",
    "        \n",
    "    def fit(self,X,Y):\n",
    "        self.m , self.n = X.shape\n",
    "        #m are no. of data points ->> number of rows\n",
    "        #n are no. of input features ->> number of columns\n",
    "        \n",
    "        self.w = np.zeros(self.n)\n",
    "        self.b = 0\n",
    "        self.X = X\n",
    "        self.Y = Y\n",
    "        \n",
    "        for i in range(self.no_of_iterations):\n",
    "            self.update_weights()\n",
    "\n",
    "    def update_weights(self ):\n",
    "         \n",
    "        y_label = np.where(self.Y <= 0, -1, 1) #label encodin\n",
    "        for index, x_i in enumerate(self.X):\n",
    "            condition = y_label[index] * (np.dot(x_i, self.w) - self.b) >= 1\n",
    "            \n",
    "            if(condition == True):\n",
    "                dw = 2 * self.lambda_parameter * self.w\n",
    "                db = 0\n",
    "            else :\n",
    "                dw = 2 * self.lambda_parameter * self.w (x_i, y_label[index])\n",
    "                db = y_label[index]\n",
    "                \n",
    "            self.w = self.w - self.learning_rate * dw\n",
    "            self.b = self.b - self.learning_rate * db\n",
    "            \n",
    "    \n",
    "    def predict(self,X):\n",
    "        output = np.dot(X, self.w) - self.b\n",
    "        predicted_labels = np.sign(output)\n",
    "        \n",
    "        y_hat = np.where(predicted_labels <= -1, 0 , 1)\n",
    "        return y_hat()\n",
    "        "
   ]
  },
  {
   "cell_type": "code",
   "execution_count": 10,
   "metadata": {},
   "outputs": [],
   "source": [
    "model= SVM_classifier(learning_rate = 0.001, no_of_iterations =1000 ,lambda_parameter = 0.01)"
   ]
  },
  {
   "cell_type": "code",
   "execution_count": 5,
   "metadata": {},
   "outputs": [
    {
     "name": "stdout",
     "output_type": "stream",
     "text": [
      "0 10\n",
      "1 20\n",
      "2 30\n",
      "3 40\n",
      "4 50\n"
     ]
    }
   ],
   "source": [
    "my_list = [10 ,20 , 30 , 40 , 50]\n",
    "for i , my_list_i in enumerate(my_list):\n",
    "    print(i , my_list_i)"
   ]
  },
  {
   "cell_type": "code",
   "execution_count": null,
   "metadata": {},
   "outputs": [],
   "source": []
  }
 ],
 "metadata": {
  "kernelspec": {
   "display_name": ".venv",
   "language": "python",
   "name": "python3"
  },
  "language_info": {
   "codemirror_mode": {
    "name": "ipython",
    "version": 3
   },
   "file_extension": ".py",
   "mimetype": "text/x-python",
   "name": "python",
   "nbconvert_exporter": "python",
   "pygments_lexer": "ipython3",
   "version": "3.13.1"
  }
 },
 "nbformat": 4,
 "nbformat_minor": 2
}
