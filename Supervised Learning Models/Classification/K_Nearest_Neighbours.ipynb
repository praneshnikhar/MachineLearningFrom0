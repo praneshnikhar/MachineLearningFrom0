{
 "cells": [
  {
   "cell_type": "code",
   "execution_count": 1,
   "metadata": {},
   "outputs": [],
   "source": [
    "import numpy as np\n",
    "import statistics"
   ]
  },
  {
   "cell_type": "code",
   "execution_count": 4,
   "metadata": {},
   "outputs": [],
   "source": [
    "class KNN_Classifier():\n",
    "    def __init__(self, distance_metric):\n",
    "        self.get_distance_metric = distance_metric\n",
    "        \n",
    "    def get_distance_metric(self, training_data_point, test_data_point):\n",
    "        if(self.distance_metric == 'euclidean'):\n",
    "            dist = 0\n",
    "            for i in range(len(training_data_point)-1):\n",
    "                dist= dist +(training_data_point[i] - test_data_point[i])**2 \n",
    "                \n",
    "            euclidean_dist = np.sqrt(dist)\n",
    "            return euclidean_dist\n",
    "    \n",
    "        elif(self.distance_metric == 'manhattan'):\n",
    "            dist = 0\n",
    "            for i in range(len(training_data_point)-1):\n",
    "                dist = dist + abs(training_data_point[i] - test_data_point[i])\n",
    "                \n",
    "            manhattan_dist = dist\n",
    "            return manhattan_dist\n",
    "            \n",
    "    def nearest_neighbours(self, X_train , test_data, k):\n",
    "        distance_list = []\n",
    "        \n",
    "        for training_data in X_train:\n",
    "            distance = self.get_distance_metric(training_data, test_data)\n",
    "            distance_list.append(training_data, distance)\n",
    "            \n",
    "        distance_list.sort(key = lambda x:x[1])\n",
    "        \n",
    "        neigbours_list = []\n",
    "        \n",
    "        for j in range(k):\n",
    "            neighbour_list.append(distance_list[j][0])    \n",
    "        return neighbours_list    \n",
    "            \n",
    "        \n",
    "    def predict(self, X_train , test_data, k):\n",
    "        neighbours = self.nearest_neighbours(X_train , test_data, k)\n",
    "        \n",
    "        for data in neighbours:\n",
    "            label = []\n",
    "            label.append(data[-1])\n",
    "        \n",
    "        predicted_class = statistics.mode(label)\n",
    "        \n",
    "        return predicted_class\n",
    "    "
   ]
  },
  {
   "cell_type": "code",
   "execution_count": null,
   "metadata": {},
   "outputs": [],
   "source": [
    "classifier =  KNN_Classifier(distance_metric == 'euclidean')\n",
    "classifier.predict(X, X_test, k = 5)\n"
   ]
  },
  {
   "cell_type": "code",
   "execution_count": null,
   "metadata": {},
   "outputs": [],
   "source": [
    "classifier = KNN_classifier(distance_metric == 'manhattan')\n"
   ]
  }
 ],
 "metadata": {
  "kernelspec": {
   "display_name": ".venv",
   "language": "python",
   "name": "python3"
  },
  "language_info": {
   "codemirror_mode": {
    "name": "ipython",
    "version": 3
   },
   "file_extension": ".py",
   "mimetype": "text/x-python",
   "name": "python",
   "nbconvert_exporter": "python",
   "pygments_lexer": "ipython3",
   "version": "3.13.1"
  }
 },
 "nbformat": 4,
 "nbformat_minor": 2
}
