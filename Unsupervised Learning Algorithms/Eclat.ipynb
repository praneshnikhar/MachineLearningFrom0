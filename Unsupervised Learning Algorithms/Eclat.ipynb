{
 "cells": [
  {
   "cell_type": "code",
   "execution_count": 1,
   "id": "1fe01376",
   "metadata": {},
   "outputs": [
    {
     "name": "stdout",
     "output_type": "stream",
     "text": [
      "Requirement already satisfied: mlxtend in /Users/pranesh/coding/MachinelearningAug/.venv/lib/python3.13/site-packages (0.23.4)\n",
      "Requirement already satisfied: scipy>=1.2.1 in /Users/pranesh/coding/MachinelearningAug/.venv/lib/python3.13/site-packages (from mlxtend) (1.16.1)\n",
      "Requirement already satisfied: numpy>=1.16.2 in /Users/pranesh/coding/MachinelearningAug/.venv/lib/python3.13/site-packages (from mlxtend) (2.3.2)\n",
      "Requirement already satisfied: pandas>=0.24.2 in /Users/pranesh/coding/MachinelearningAug/.venv/lib/python3.13/site-packages (from mlxtend) (2.3.1)\n",
      "Requirement already satisfied: scikit-learn>=1.3.1 in /Users/pranesh/coding/MachinelearningAug/.venv/lib/python3.13/site-packages (from mlxtend) (1.7.1)\n",
      "Requirement already satisfied: matplotlib>=3.0.0 in /Users/pranesh/coding/MachinelearningAug/.venv/lib/python3.13/site-packages (from mlxtend) (3.10.3)\n",
      "Requirement already satisfied: joblib>=0.13.2 in /Users/pranesh/coding/MachinelearningAug/.venv/lib/python3.13/site-packages (from mlxtend) (1.5.1)\n",
      "Requirement already satisfied: contourpy>=1.0.1 in /Users/pranesh/coding/MachinelearningAug/.venv/lib/python3.13/site-packages (from matplotlib>=3.0.0->mlxtend) (1.3.3)\n",
      "Requirement already satisfied: cycler>=0.10 in /Users/pranesh/coding/MachinelearningAug/.venv/lib/python3.13/site-packages (from matplotlib>=3.0.0->mlxtend) (0.12.1)\n",
      "Requirement already satisfied: fonttools>=4.22.0 in /Users/pranesh/coding/MachinelearningAug/.venv/lib/python3.13/site-packages (from matplotlib>=3.0.0->mlxtend) (4.59.0)\n",
      "Requirement already satisfied: kiwisolver>=1.3.1 in /Users/pranesh/coding/MachinelearningAug/.venv/lib/python3.13/site-packages (from matplotlib>=3.0.0->mlxtend) (1.4.8)\n",
      "Requirement already satisfied: packaging>=20.0 in /Users/pranesh/coding/MachinelearningAug/.venv/lib/python3.13/site-packages (from matplotlib>=3.0.0->mlxtend) (25.0)\n",
      "Requirement already satisfied: pillow>=8 in /Users/pranesh/coding/MachinelearningAug/.venv/lib/python3.13/site-packages (from matplotlib>=3.0.0->mlxtend) (11.3.0)\n",
      "Requirement already satisfied: pyparsing>=2.3.1 in /Users/pranesh/coding/MachinelearningAug/.venv/lib/python3.13/site-packages (from matplotlib>=3.0.0->mlxtend) (3.2.3)\n",
      "Requirement already satisfied: python-dateutil>=2.7 in /Users/pranesh/coding/MachinelearningAug/.venv/lib/python3.13/site-packages (from matplotlib>=3.0.0->mlxtend) (2.9.0.post0)\n",
      "Requirement already satisfied: pytz>=2020.1 in /Users/pranesh/coding/MachinelearningAug/.venv/lib/python3.13/site-packages (from pandas>=0.24.2->mlxtend) (2025.2)\n",
      "Requirement already satisfied: tzdata>=2022.7 in /Users/pranesh/coding/MachinelearningAug/.venv/lib/python3.13/site-packages (from pandas>=0.24.2->mlxtend) (2025.2)\n",
      "Requirement already satisfied: six>=1.5 in /Users/pranesh/coding/MachinelearningAug/.venv/lib/python3.13/site-packages (from python-dateutil>=2.7->matplotlib>=3.0.0->mlxtend) (1.17.0)\n",
      "Requirement already satisfied: threadpoolctl>=3.1.0 in /Users/pranesh/coding/MachinelearningAug/.venv/lib/python3.13/site-packages (from scikit-learn>=1.3.1->mlxtend) (3.6.0)\n",
      "\n",
      "\u001b[1m[\u001b[0m\u001b[34;49mnotice\u001b[0m\u001b[1;39;49m]\u001b[0m\u001b[39;49m A new release of pip is available: \u001b[0m\u001b[31;49m25.1.1\u001b[0m\u001b[39;49m -> \u001b[0m\u001b[32;49m25.2\u001b[0m\n",
      "\u001b[1m[\u001b[0m\u001b[34;49mnotice\u001b[0m\u001b[1;39;49m]\u001b[0m\u001b[39;49m To update, run: \u001b[0m\u001b[32;49mpip install --upgrade pip\u001b[0m\n"
     ]
    }
   ],
   "source": [
    "!pip install mlxtend"
   ]
  },
  {
   "cell_type": "code",
   "execution_count": 2,
   "id": "264ed50b",
   "metadata": {},
   "outputs": [
    {
     "name": "stdout",
     "output_type": "stream",
     "text": [
      "Requirement already satisfied: mlxtend in /Users/pranesh/coding/MachinelearningAug/.venv/lib/python3.13/site-packages (0.23.4)\n",
      "Requirement already satisfied: scipy>=1.2.1 in /Users/pranesh/coding/MachinelearningAug/.venv/lib/python3.13/site-packages (from mlxtend) (1.16.1)\n",
      "Requirement already satisfied: numpy>=1.16.2 in /Users/pranesh/coding/MachinelearningAug/.venv/lib/python3.13/site-packages (from mlxtend) (2.3.2)\n",
      "Requirement already satisfied: pandas>=0.24.2 in /Users/pranesh/coding/MachinelearningAug/.venv/lib/python3.13/site-packages (from mlxtend) (2.3.1)\n",
      "Requirement already satisfied: scikit-learn>=1.3.1 in /Users/pranesh/coding/MachinelearningAug/.venv/lib/python3.13/site-packages (from mlxtend) (1.7.1)\n",
      "Requirement already satisfied: matplotlib>=3.0.0 in /Users/pranesh/coding/MachinelearningAug/.venv/lib/python3.13/site-packages (from mlxtend) (3.10.3)\n",
      "Requirement already satisfied: joblib>=0.13.2 in /Users/pranesh/coding/MachinelearningAug/.venv/lib/python3.13/site-packages (from mlxtend) (1.5.1)\n",
      "Requirement already satisfied: contourpy>=1.0.1 in /Users/pranesh/coding/MachinelearningAug/.venv/lib/python3.13/site-packages (from matplotlib>=3.0.0->mlxtend) (1.3.3)\n",
      "Requirement already satisfied: cycler>=0.10 in /Users/pranesh/coding/MachinelearningAug/.venv/lib/python3.13/site-packages (from matplotlib>=3.0.0->mlxtend) (0.12.1)\n",
      "Requirement already satisfied: fonttools>=4.22.0 in /Users/pranesh/coding/MachinelearningAug/.venv/lib/python3.13/site-packages (from matplotlib>=3.0.0->mlxtend) (4.59.0)\n",
      "Requirement already satisfied: kiwisolver>=1.3.1 in /Users/pranesh/coding/MachinelearningAug/.venv/lib/python3.13/site-packages (from matplotlib>=3.0.0->mlxtend) (1.4.8)\n",
      "Requirement already satisfied: packaging>=20.0 in /Users/pranesh/coding/MachinelearningAug/.venv/lib/python3.13/site-packages (from matplotlib>=3.0.0->mlxtend) (25.0)\n",
      "Requirement already satisfied: pillow>=8 in /Users/pranesh/coding/MachinelearningAug/.venv/lib/python3.13/site-packages (from matplotlib>=3.0.0->mlxtend) (11.3.0)\n",
      "Requirement already satisfied: pyparsing>=2.3.1 in /Users/pranesh/coding/MachinelearningAug/.venv/lib/python3.13/site-packages (from matplotlib>=3.0.0->mlxtend) (3.2.3)\n",
      "Requirement already satisfied: python-dateutil>=2.7 in /Users/pranesh/coding/MachinelearningAug/.venv/lib/python3.13/site-packages (from matplotlib>=3.0.0->mlxtend) (2.9.0.post0)\n",
      "Requirement already satisfied: pytz>=2020.1 in /Users/pranesh/coding/MachinelearningAug/.venv/lib/python3.13/site-packages (from pandas>=0.24.2->mlxtend) (2025.2)\n",
      "Requirement already satisfied: tzdata>=2022.7 in /Users/pranesh/coding/MachinelearningAug/.venv/lib/python3.13/site-packages (from pandas>=0.24.2->mlxtend) (2025.2)\n",
      "Requirement already satisfied: six>=1.5 in /Users/pranesh/coding/MachinelearningAug/.venv/lib/python3.13/site-packages (from python-dateutil>=2.7->matplotlib>=3.0.0->mlxtend) (1.17.0)\n",
      "Requirement already satisfied: threadpoolctl>=3.1.0 in /Users/pranesh/coding/MachinelearningAug/.venv/lib/python3.13/site-packages (from scikit-learn>=1.3.1->mlxtend) (3.6.0)\n",
      "\n",
      "\u001b[1m[\u001b[0m\u001b[34;49mnotice\u001b[0m\u001b[1;39;49m]\u001b[0m\u001b[39;49m A new release of pip is available: \u001b[0m\u001b[31;49m25.1.1\u001b[0m\u001b[39;49m -> \u001b[0m\u001b[32;49m25.2\u001b[0m\n",
      "\u001b[1m[\u001b[0m\u001b[34;49mnotice\u001b[0m\u001b[1;39;49m]\u001b[0m\u001b[39;49m To update, run: \u001b[0m\u001b[32;49mpip install --upgrade pip\u001b[0m\n"
     ]
    }
   ],
   "source": [
    "!pip install --upgrade mlxtend"
   ]
  },
  {
   "cell_type": "code",
   "execution_count": 3,
   "id": "ed532d7e",
   "metadata": {},
   "outputs": [
    {
     "ename": "ImportError",
     "evalue": "cannot import name 'eclat' from 'mlxtend.frequent_patterns' (/Users/pranesh/coding/MachinelearningAug/.venv/lib/python3.13/site-packages/mlxtend/frequent_patterns/__init__.py)",
     "output_type": "error",
     "traceback": [
      "\u001b[31m---------------------------------------------------------------------------\u001b[39m",
      "\u001b[31mImportError\u001b[39m                               Traceback (most recent call last)",
      "\u001b[36mCell\u001b[39m\u001b[36m \u001b[39m\u001b[32mIn[3]\u001b[39m\u001b[32m, line 3\u001b[39m\n\u001b[32m      1\u001b[39m \u001b[38;5;28;01mimport\u001b[39;00m\u001b[38;5;250m \u001b[39m\u001b[34;01mpandas\u001b[39;00m\u001b[38;5;250m \u001b[39m\u001b[38;5;28;01mas\u001b[39;00m\u001b[38;5;250m \u001b[39m\u001b[34;01mpd\u001b[39;00m\n\u001b[32m      2\u001b[39m \u001b[38;5;28;01mfrom\u001b[39;00m\u001b[38;5;250m \u001b[39m\u001b[34;01mmlxtend\u001b[39;00m\u001b[34;01m.\u001b[39;00m\u001b[34;01mpreprocessing\u001b[39;00m\u001b[38;5;250m \u001b[39m\u001b[38;5;28;01mimport\u001b[39;00m TransactionEncoder\n\u001b[32m----> \u001b[39m\u001b[32m3\u001b[39m \u001b[38;5;28;01mfrom\u001b[39;00m\u001b[38;5;250m \u001b[39m\u001b[34;01mmlxtend\u001b[39;00m\u001b[34;01m.\u001b[39;00m\u001b[34;01mfrequent_patterns\u001b[39;00m\u001b[38;5;250m \u001b[39m\u001b[38;5;28;01mimport\u001b[39;00m eclat\n\u001b[32m      4\u001b[39m \u001b[38;5;28;01mfrom\u001b[39;00m\u001b[38;5;250m \u001b[39m\u001b[34;01mmlxtend\u001b[39;00m\u001b[34;01m.\u001b[39;00m\u001b[34;01mfrequent_patterns\u001b[39;00m\u001b[38;5;250m \u001b[39m\u001b[38;5;28;01mimport\u001b[39;00m association_rules\n",
      "\u001b[31mImportError\u001b[39m: cannot import name 'eclat' from 'mlxtend.frequent_patterns' (/Users/pranesh/coding/MachinelearningAug/.venv/lib/python3.13/site-packages/mlxtend/frequent_patterns/__init__.py)"
     ]
    }
   ],
   "source": [
    "import pandas as pd\n",
    "from mlxtend.preprocessing import TransactionEncoder\n",
    "from mlxtend.frequent_patterns import eclat\n",
    "from mlxtend.frequent_patterns import association_rules\n"
   ]
  },
  {
   "cell_type": "code",
   "execution_count": 4,
   "id": "2e12a55b",
   "metadata": {},
   "outputs": [],
   "source": [
    "transactions = [\n",
    "    ['Milk', 'Bread', 'Butter'],\n",
    "    ['Milk', 'Butter', 'Eggs'],\n",
    "    ['Bread', 'Butter', 'Eggs'],\n",
    "    ['Milk', 'Bread', 'Butter', 'Eggs'],\n",
    "    ['Bread', 'Butter'],\n",
    "    ['Milk', 'Eggs']\n",
    "]"
   ]
  },
  {
   "cell_type": "code",
   "execution_count": 5,
   "id": "447669b0",
   "metadata": {},
   "outputs": [],
   "source": [
    "te = TransactionEncoder()\n",
    "te_array = te.fit(transactions).transform(transactions)\n",
    "df = pd.DataFrame(te_array, columns=te.columns_)"
   ]
  },
  {
   "cell_type": "code",
   "execution_count": 6,
   "id": "82827a28",
   "metadata": {},
   "outputs": [
    {
     "name": "stdout",
     "output_type": "stream",
     "text": [
      "One-Hot Encoded DataFrame:\n",
      "   Bread  Butter   Eggs   Milk\n",
      "0   True    True  False   True\n",
      "1  False    True   True   True\n",
      "2   True    True   True  False\n",
      "3   True    True   True   True\n",
      "4   True    True  False  False\n",
      "5  False   False   True   True\n",
      "------------------------------\n"
     ]
    }
   ],
   "source": [
    "print(\"One-Hot Encoded DataFrame:\")\n",
    "print(df)\n",
    "print(\"-\" * 30)"
   ]
  },
  {
   "cell_type": "code",
   "execution_count": 7,
   "id": "72435c14",
   "metadata": {},
   "outputs": [
    {
     "ename": "NameError",
     "evalue": "name 'eclat' is not defined",
     "output_type": "error",
     "traceback": [
      "\u001b[31m---------------------------------------------------------------------------\u001b[39m",
      "\u001b[31mNameError\u001b[39m                                 Traceback (most recent call last)",
      "\u001b[36mCell\u001b[39m\u001b[36m \u001b[39m\u001b[32mIn[7]\u001b[39m\u001b[32m, line 1\u001b[39m\n\u001b[32m----> \u001b[39m\u001b[32m1\u001b[39m frequent_itemsets_eclat = \u001b[43meclat\u001b[49m(df, min_support=\u001b[32m0.5\u001b[39m, use_colnames=\u001b[38;5;28;01mTrue\u001b[39;00m)\n\u001b[32m      3\u001b[39m \u001b[38;5;28mprint\u001b[39m(\u001b[33m\"\u001b[39m\u001b[33mFrequent Itemsets found by Eclat (min_support=0.5):\u001b[39m\u001b[33m\"\u001b[39m)\n\u001b[32m      4\u001b[39m \u001b[38;5;28mprint\u001b[39m(frequent_itemsets_eclat)\n",
      "\u001b[31mNameError\u001b[39m: name 'eclat' is not defined"
     ]
    }
   ],
   "source": [
    "frequent_itemsets_eclat = eclat(df, min_support=0.5, use_colnames=True)\n",
    "\n",
    "print(\"Frequent Itemsets found by Eclat (min_support=0.5):\")\n",
    "print(frequent_itemsets_eclat)\n",
    "print(\"-\" * 30)\n"
   ]
  },
  {
   "cell_type": "code",
   "execution_count": 8,
   "id": "3ff3aaec",
   "metadata": {},
   "outputs": [
    {
     "ename": "NameError",
     "evalue": "name 'frequent_itemsets_eclat' is not defined",
     "output_type": "error",
     "traceback": [
      "\u001b[31m---------------------------------------------------------------------------\u001b[39m",
      "\u001b[31mNameError\u001b[39m                                 Traceback (most recent call last)",
      "\u001b[36mCell\u001b[39m\u001b[36m \u001b[39m\u001b[32mIn[8]\u001b[39m\u001b[32m, line 1\u001b[39m\n\u001b[32m----> \u001b[39m\u001b[32m1\u001b[39m frequent_itemsets_eclat = \u001b[43mfrequent_itemsets_eclat\u001b[49m.sort_values(by=\u001b[33m'\u001b[39m\u001b[33msupport\u001b[39m\u001b[33m'\u001b[39m, ascending=\u001b[38;5;28;01mFalse\u001b[39;00m)\n\u001b[32m      2\u001b[39m \u001b[38;5;28mprint\u001b[39m(\u001b[33m\"\u001b[39m\u001b[33mSorted Frequent Itemsets:\u001b[39m\u001b[33m\"\u001b[39m)\n\u001b[32m      3\u001b[39m \u001b[38;5;28mprint\u001b[39m(frequent_itemsets_eclat)\n",
      "\u001b[31mNameError\u001b[39m: name 'frequent_itemsets_eclat' is not defined"
     ]
    }
   ],
   "source": [
    "frequent_itemsets_eclat = frequent_itemsets_eclat.sort_values(by='support', ascending=False)\n",
    "print(\"Sorted Frequent Itemsets:\")\n",
    "print(frequent_itemsets_eclat)\n",
    "print(\"-\" * 30)"
   ]
  },
  {
   "cell_type": "code",
   "execution_count": 9,
   "id": "40276892",
   "metadata": {},
   "outputs": [
    {
     "ename": "NameError",
     "evalue": "name 'association_rules' is not defined",
     "output_type": "error",
     "traceback": [
      "\u001b[31m---------------------------------------------------------------------------\u001b[39m",
      "\u001b[31mNameError\u001b[39m                                 Traceback (most recent call last)",
      "\u001b[36mCell\u001b[39m\u001b[36m \u001b[39m\u001b[32mIn[9]\u001b[39m\u001b[32m, line 1\u001b[39m\n\u001b[32m----> \u001b[39m\u001b[32m1\u001b[39m rules_eclat = \u001b[43massociation_rules\u001b[49m(frequent_itemsets_eclat, metric=\u001b[33m\"\u001b[39m\u001b[33mconfidence\u001b[39m\u001b[33m\"\u001b[39m, min_threshold=\u001b[32m0.7\u001b[39m)\n\u001b[32m      3\u001b[39m \u001b[38;5;28mprint\u001b[39m(\u001b[33m\"\u001b[39m\u001b[33mAssociation Rules generated from Eclat (min_confidence=0.7):\u001b[39m\u001b[33m\"\u001b[39m)\n\u001b[32m      4\u001b[39m \u001b[38;5;28mprint\u001b[39m(rules_eclat[[\u001b[33m'\u001b[39m\u001b[33mantecedents\u001b[39m\u001b[33m'\u001b[39m, \u001b[33m'\u001b[39m\u001b[33mconsequents\u001b[39m\u001b[33m'\u001b[39m, \u001b[33m'\u001b[39m\u001b[33msupport\u001b[39m\u001b[33m'\u001b[39m, \u001b[33m'\u001b[39m\u001b[33mconfidence\u001b[39m\u001b[33m'\u001b[39m, \u001b[33m'\u001b[39m\u001b[33mlift\u001b[39m\u001b[33m'\u001b[39m]])\n",
      "\u001b[31mNameError\u001b[39m: name 'association_rules' is not defined"
     ]
    }
   ],
   "source": [
    "rules_eclat = association_rules(frequent_itemsets_eclat, metric=\"confidence\", min_threshold=0.7)\n",
    "\n",
    "print(\"Association Rules generated from Eclat (min_confidence=0.7):\")\n",
    "print(rules_eclat[['antecedents', 'consequents', 'support', 'confidence', 'lift']])"
   ]
  },
  {
   "cell_type": "code",
   "execution_count": null,
   "id": "cab7d717",
   "metadata": {},
   "outputs": [],
   "source": []
  },
  {
   "cell_type": "code",
   "execution_count": null,
   "id": "086e3f7d",
   "metadata": {},
   "outputs": [],
   "source": []
  },
  {
   "cell_type": "code",
   "execution_count": null,
   "id": "c05523f7",
   "metadata": {},
   "outputs": [],
   "source": []
  },
  {
   "cell_type": "code",
   "execution_count": null,
   "id": "8fa0921f",
   "metadata": {},
   "outputs": [],
   "source": []
  },
  {
   "cell_type": "code",
   "execution_count": null,
   "id": "ef9da7cf",
   "metadata": {},
   "outputs": [],
   "source": []
  }
 ],
 "metadata": {
  "kernelspec": {
   "display_name": ".venv",
   "language": "python",
   "name": "python3"
  },
  "language_info": {
   "codemirror_mode": {
    "name": "ipython",
    "version": 3
   },
   "file_extension": ".py",
   "mimetype": "text/x-python",
   "name": "python",
   "nbconvert_exporter": "python",
   "pygments_lexer": "ipython3",
   "version": "3.13.1"
  }
 },
 "nbformat": 4,
 "nbformat_minor": 5
}
