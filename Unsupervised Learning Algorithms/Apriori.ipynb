{
 "cells": [
  {
   "cell_type": "code",
   "execution_count": 1,
   "id": "a2c73628",
   "metadata": {},
   "outputs": [
    {
     "name": "stdout",
     "output_type": "stream",
     "text": [
      "Collecting mlxtend\n",
      "  Downloading mlxtend-0.23.4-py3-none-any.whl.metadata (7.3 kB)\n",
      "Requirement already satisfied: scipy>=1.2.1 in /Users/pranesh/coding/MachinelearningAug/.venv/lib/python3.13/site-packages (from mlxtend) (1.16.1)\n",
      "Requirement already satisfied: numpy>=1.16.2 in /Users/pranesh/coding/MachinelearningAug/.venv/lib/python3.13/site-packages (from mlxtend) (2.3.2)\n",
      "Requirement already satisfied: pandas>=0.24.2 in /Users/pranesh/coding/MachinelearningAug/.venv/lib/python3.13/site-packages (from mlxtend) (2.3.1)\n",
      "Requirement already satisfied: scikit-learn>=1.3.1 in /Users/pranesh/coding/MachinelearningAug/.venv/lib/python3.13/site-packages (from mlxtend) (1.7.1)\n",
      "Requirement already satisfied: matplotlib>=3.0.0 in /Users/pranesh/coding/MachinelearningAug/.venv/lib/python3.13/site-packages (from mlxtend) (3.10.3)\n",
      "Requirement already satisfied: joblib>=0.13.2 in /Users/pranesh/coding/MachinelearningAug/.venv/lib/python3.13/site-packages (from mlxtend) (1.5.1)\n",
      "Requirement already satisfied: contourpy>=1.0.1 in /Users/pranesh/coding/MachinelearningAug/.venv/lib/python3.13/site-packages (from matplotlib>=3.0.0->mlxtend) (1.3.3)\n",
      "Requirement already satisfied: cycler>=0.10 in /Users/pranesh/coding/MachinelearningAug/.venv/lib/python3.13/site-packages (from matplotlib>=3.0.0->mlxtend) (0.12.1)\n",
      "Requirement already satisfied: fonttools>=4.22.0 in /Users/pranesh/coding/MachinelearningAug/.venv/lib/python3.13/site-packages (from matplotlib>=3.0.0->mlxtend) (4.59.0)\n",
      "Requirement already satisfied: kiwisolver>=1.3.1 in /Users/pranesh/coding/MachinelearningAug/.venv/lib/python3.13/site-packages (from matplotlib>=3.0.0->mlxtend) (1.4.8)\n",
      "Requirement already satisfied: packaging>=20.0 in /Users/pranesh/coding/MachinelearningAug/.venv/lib/python3.13/site-packages (from matplotlib>=3.0.0->mlxtend) (25.0)\n",
      "Requirement already satisfied: pillow>=8 in /Users/pranesh/coding/MachinelearningAug/.venv/lib/python3.13/site-packages (from matplotlib>=3.0.0->mlxtend) (11.3.0)\n",
      "Requirement already satisfied: pyparsing>=2.3.1 in /Users/pranesh/coding/MachinelearningAug/.venv/lib/python3.13/site-packages (from matplotlib>=3.0.0->mlxtend) (3.2.3)\n",
      "Requirement already satisfied: python-dateutil>=2.7 in /Users/pranesh/coding/MachinelearningAug/.venv/lib/python3.13/site-packages (from matplotlib>=3.0.0->mlxtend) (2.9.0.post0)\n",
      "Requirement already satisfied: pytz>=2020.1 in /Users/pranesh/coding/MachinelearningAug/.venv/lib/python3.13/site-packages (from pandas>=0.24.2->mlxtend) (2025.2)\n",
      "Requirement already satisfied: tzdata>=2022.7 in /Users/pranesh/coding/MachinelearningAug/.venv/lib/python3.13/site-packages (from pandas>=0.24.2->mlxtend) (2025.2)\n",
      "Requirement already satisfied: six>=1.5 in /Users/pranesh/coding/MachinelearningAug/.venv/lib/python3.13/site-packages (from python-dateutil>=2.7->matplotlib>=3.0.0->mlxtend) (1.17.0)\n",
      "Requirement already satisfied: threadpoolctl>=3.1.0 in /Users/pranesh/coding/MachinelearningAug/.venv/lib/python3.13/site-packages (from scikit-learn>=1.3.1->mlxtend) (3.6.0)\n",
      "Downloading mlxtend-0.23.4-py3-none-any.whl (1.4 MB)\n",
      "\u001b[2K   \u001b[90m━━━━━━━━━━━━━━━━━━━━━━━━━━━━━━━━━━━━━━━━\u001b[0m \u001b[32m1.4/1.4 MB\u001b[0m \u001b[31m277.6 kB/s\u001b[0m eta \u001b[36m0:00:00\u001b[0ma \u001b[36m0:00:01\u001b[0m\n",
      "\u001b[?25hInstalling collected packages: mlxtend\n",
      "Successfully installed mlxtend-0.23.4\n",
      "\n",
      "\u001b[1m[\u001b[0m\u001b[34;49mnotice\u001b[0m\u001b[1;39;49m]\u001b[0m\u001b[39;49m A new release of pip is available: \u001b[0m\u001b[31;49m25.1.1\u001b[0m\u001b[39;49m -> \u001b[0m\u001b[32;49m25.2\u001b[0m\n",
      "\u001b[1m[\u001b[0m\u001b[34;49mnotice\u001b[0m\u001b[1;39;49m]\u001b[0m\u001b[39;49m To update, run: \u001b[0m\u001b[32;49mpip install --upgrade pip\u001b[0m\n",
      "Note: you may need to restart the kernel to use updated packages.\n"
     ]
    }
   ],
   "source": [
    "pip install mlxtend"
   ]
  },
  {
   "cell_type": "code",
   "execution_count": 2,
   "id": "86f535e5",
   "metadata": {},
   "outputs": [],
   "source": [
    "import pandas as pd\n",
    "from mlxtend.frequent_patterns import apriori\n",
    "from mlxtend.frequent_patterns import association_rules"
   ]
  },
  {
   "cell_type": "code",
   "execution_count": 3,
   "id": "b7d33745",
   "metadata": {},
   "outputs": [],
   "source": [
    "transactions = [\n",
    "    ['Milk', 'Bread', 'Butter'],\n",
    "    ['Milk', 'Butter', 'Eggs'],\n",
    "    ['Bread', 'Butter', 'Eggs'],\n",
    "    ['Milk', 'Bread', 'Butter', 'Eggs'],\n",
    "    ['Bread', 'Butter'],\n",
    "    ['Milk', 'Eggs']\n",
    "]"
   ]
  },
  {
   "cell_type": "code",
   "execution_count": 4,
   "id": "3e4333e8",
   "metadata": {},
   "outputs": [],
   "source": [
    "from mlxtend.preprocessing import TransactionEncoder"
   ]
  },
  {
   "cell_type": "code",
   "execution_count": 5,
   "id": "18bc2ec0",
   "metadata": {},
   "outputs": [],
   "source": [
    "te = TransactionEncoder()\n",
    "te_array = te.fit(transactions).transform(transactions)\n",
    "df = pd.DataFrame(te_array, columns=te.columns_)"
   ]
  },
  {
   "cell_type": "code",
   "execution_count": 6,
   "id": "6963d338",
   "metadata": {},
   "outputs": [
    {
     "name": "stdout",
     "output_type": "stream",
     "text": [
      "One-Hot Encoded DataFrame:\n",
      "   Bread  Butter   Eggs   Milk\n",
      "0   True    True  False   True\n",
      "1  False    True   True   True\n",
      "2   True    True   True  False\n",
      "3   True    True   True   True\n",
      "4   True    True  False  False\n",
      "5  False   False   True   True\n",
      "------------------------------\n"
     ]
    }
   ],
   "source": [
    "print(\"One-Hot Encoded DataFrame:\")\n",
    "print(df)\n",
    "print(\"-\" * 30)\n"
   ]
  },
  {
   "cell_type": "code",
   "execution_count": 7,
   "id": "d9675f13",
   "metadata": {},
   "outputs": [],
   "source": [
    "frequent_itemsets = apriori(df, min_support=0.5, use_colnames=True)"
   ]
  },
  {
   "cell_type": "code",
   "execution_count": 8,
   "id": "08162877",
   "metadata": {},
   "outputs": [
    {
     "name": "stdout",
     "output_type": "stream",
     "text": [
      "Frequent Itemsets (min_support=0.5):\n",
      "    support         itemsets\n",
      "0  0.666667          (Bread)\n",
      "1  0.833333         (Butter)\n",
      "2  0.666667           (Eggs)\n",
      "3  0.666667           (Milk)\n",
      "4  0.666667  (Bread, Butter)\n",
      "5  0.500000   (Butter, Eggs)\n",
      "6  0.500000   (Butter, Milk)\n",
      "7  0.500000     (Eggs, Milk)\n",
      "------------------------------\n"
     ]
    }
   ],
   "source": [
    "print(\"Frequent Itemsets (min_support=0.5):\")\n",
    "print(frequent_itemsets)\n",
    "print(\"-\" * 30)"
   ]
  },
  {
   "cell_type": "code",
   "execution_count": 9,
   "id": "dbd79df2",
   "metadata": {},
   "outputs": [],
   "source": [
    "rules = association_rules(frequent_itemsets, metric=\"confidence\", min_threshold=0.7)"
   ]
  },
  {
   "cell_type": "code",
   "execution_count": 10,
   "id": "315b1fe6",
   "metadata": {},
   "outputs": [
    {
     "name": "stdout",
     "output_type": "stream",
     "text": [
      "Association Rules (min_confidence=0.7):\n",
      "  antecedents consequents   support  confidence   lift\n",
      "0     (Bread)    (Butter)  0.666667        1.00  1.200\n",
      "1    (Butter)     (Bread)  0.666667        0.80  1.200\n",
      "2      (Eggs)    (Butter)  0.500000        0.75  0.900\n",
      "3      (Milk)    (Butter)  0.500000        0.75  0.900\n",
      "4      (Eggs)      (Milk)  0.500000        0.75  1.125\n",
      "5      (Milk)      (Eggs)  0.500000        0.75  1.125\n"
     ]
    }
   ],
   "source": [
    "print(\"Association Rules (min_confidence=0.7):\")\n",
    "print(rules[['antecedents', 'consequents', 'support', 'confidence', 'lift']])"
   ]
  },
  {
   "cell_type": "code",
   "execution_count": null,
   "id": "3ffaa44c",
   "metadata": {},
   "outputs": [],
   "source": []
  }
 ],
 "metadata": {
  "kernelspec": {
   "display_name": ".venv",
   "language": "python",
   "name": "python3"
  },
  "language_info": {
   "codemirror_mode": {
    "name": "ipython",
    "version": 3
   },
   "file_extension": ".py",
   "mimetype": "text/x-python",
   "name": "python",
   "nbconvert_exporter": "python",
   "pygments_lexer": "ipython3",
   "version": "3.13.1"
  }
 },
 "nbformat": 4,
 "nbformat_minor": 5
}
