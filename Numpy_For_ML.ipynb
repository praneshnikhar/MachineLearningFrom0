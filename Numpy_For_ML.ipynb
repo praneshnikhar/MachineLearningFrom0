{
  "nbformat": 4,
  "nbformat_minor": 0,
  "metadata": {
    "colab": {
      "provenance": []
    },
    "kernelspec": {
      "name": "python3",
      "display_name": "Python 3"
    },
    "language_info": {
      "name": "python"
    }
  },
  "cells": [
    {
      "cell_type": "code",
      "execution_count": 1,
      "metadata": {
        "id": "h6IvvYVVAXvU"
      },
      "outputs": [],
      "source": [
        "import numpy as np"
      ]
    },
    {
      "cell_type": "markdown",
      "source": [
        "List vs Numpy -Time taken"
      ],
      "metadata": {
        "id": "vR6Wq-jcA3ka"
      }
    },
    {
      "cell_type": "code",
      "source": [
        "from time import process_time"
      ],
      "metadata": {
        "id": "L5JuLtJQA3CB"
      },
      "execution_count": 2,
      "outputs": []
    },
    {
      "cell_type": "markdown",
      "source": [
        "time taken by list"
      ],
      "metadata": {
        "id": "Q_ZTrgbZA9Uv"
      }
    },
    {
      "cell_type": "code",
      "source": [
        "python_list = [i for i in range(10000)]\n",
        "start_time = process_time()\n",
        "python_list = [i +5 for i in python_list]\n",
        "end_time = process_time()\n",
        "print(end_time- start_time)"
      ],
      "metadata": {
        "colab": {
          "base_uri": "https://localhost:8080/"
        },
        "id": "UgmF97KuAk1j",
        "outputId": "3ae1feed-574d-4a69-e3a9-daa61acba562"
      },
      "execution_count": 7,
      "outputs": [
        {
          "output_type": "stream",
          "name": "stdout",
          "text": [
            "0.0007371229999986184\n"
          ]
        }
      ]
    },
    {
      "cell_type": "code",
      "source": [
        "np_arry = np.array([i for i in range(10000)])\n",
        "start_time = process_time()\n",
        "np_arry += 5\n",
        "end_time = process_time()\n",
        "print(end_time- start_time)"
      ],
      "metadata": {
        "colab": {
          "base_uri": "https://localhost:8080/"
        },
        "id": "g-U-RdyIBHSV",
        "outputId": "eca45bcc-8206-456f-efbd-1f7982a822fb"
      },
      "execution_count": 8,
      "outputs": [
        {
          "output_type": "stream",
          "name": "stdout",
          "text": [
            "0.00016277499999972633\n"
          ]
        }
      ]
    },
    {
      "cell_type": "markdown",
      "source": [
        "Numpy arrays"
      ],
      "metadata": {
        "id": "XiWWEC5ABsMe"
      }
    },
    {
      "cell_type": "code",
      "source": [
        "#list\n",
        "list1 = [1,2,3,4,5]\n",
        "print(list1)\n",
        "type(list1)"
      ],
      "metadata": {
        "colab": {
          "base_uri": "https://localhost:8080/"
        },
        "id": "ujhCCbbOBcrj",
        "outputId": "8a6bc8d7-1bb1-46dc-e02d-26297682eb14"
      },
      "execution_count": 10,
      "outputs": [
        {
          "output_type": "stream",
          "name": "stdout",
          "text": [
            "[1, 2, 3, 4, 5]\n"
          ]
        },
        {
          "output_type": "execute_result",
          "data": {
            "text/plain": [
              "list"
            ]
          },
          "metadata": {},
          "execution_count": 10
        }
      ]
    },
    {
      "cell_type": "code",
      "source": [
        "np_array = np.array([1,2,3,4,5])\n",
        "print(np_array)\n",
        "type(np_array)"
      ],
      "metadata": {
        "colab": {
          "base_uri": "https://localhost:8080/"
        },
        "id": "_YZYxgAxBx8e",
        "outputId": "679049d0-79be-4267-da26-05cd9c25ac08"
      },
      "execution_count": 11,
      "outputs": [
        {
          "output_type": "stream",
          "name": "stdout",
          "text": [
            "[1 2 3 4 5]\n"
          ]
        },
        {
          "output_type": "execute_result",
          "data": {
            "text/plain": [
              "numpy.ndarray"
            ]
          },
          "metadata": {},
          "execution_count": 11
        }
      ]
    },
    {
      "cell_type": "code",
      "source": [
        "b = np.array([(1,2,3,4),(5,6,7,8)])\n",
        "print(b)"
      ],
      "metadata": {
        "colab": {
          "base_uri": "https://localhost:8080/"
        },
        "id": "O63d3kQxB4E-",
        "outputId": "0278464b-6f06-48f3-fc75-ba8787de3b86"
      },
      "execution_count": 14,
      "outputs": [
        {
          "output_type": "stream",
          "name": "stdout",
          "text": [
            "[[1 2 3 4]\n",
            " [5 6 7 8]]\n"
          ]
        }
      ]
    },
    {
      "cell_type": "code",
      "source": [
        "b.shape"
      ],
      "metadata": {
        "colab": {
          "base_uri": "https://localhost:8080/"
        },
        "id": "gtmS9hW5CTW4",
        "outputId": "9a2cafd7-b251-430c-b342-7fbe57ae7655"
      },
      "execution_count": 15,
      "outputs": [
        {
          "output_type": "execute_result",
          "data": {
            "text/plain": [
              "(2, 4)"
            ]
          },
          "metadata": {},
          "execution_count": 15
        }
      ]
    },
    {
      "cell_type": "code",
      "source": [
        "c = np.array([(1,2,3,4),(5,6,7,8)],dtype=float)\n",
        "print(c)"
      ],
      "metadata": {
        "colab": {
          "base_uri": "https://localhost:8080/"
        },
        "id": "mneBkgnYCZc4",
        "outputId": "55eb99b1-5b70-4df5-a9ec-2cc0b9e45601"
      },
      "execution_count": 16,
      "outputs": [
        {
          "output_type": "stream",
          "name": "stdout",
          "text": [
            "[[1. 2. 3. 4.]\n",
            " [5. 6. 7. 8.]]\n"
          ]
        }
      ]
    },
    {
      "cell_type": "markdown",
      "source": [
        "initial place holders in numpy arrays\n"
      ],
      "metadata": {
        "id": "d077BTnLCfAB"
      }
    },
    {
      "cell_type": "code",
      "source": [
        "#create a numpy array of zeros\n",
        "x = np.zeros((4,5))\n",
        "print(x)"
      ],
      "metadata": {
        "colab": {
          "base_uri": "https://localhost:8080/"
        },
        "id": "dLQNTqbHCcDD",
        "outputId": "369c753c-cfc7-4ff2-f0e9-fbd176b6b800"
      },
      "execution_count": 18,
      "outputs": [
        {
          "output_type": "stream",
          "name": "stdout",
          "text": [
            "[[0. 0. 0. 0. 0.]\n",
            " [0. 0. 0. 0. 0.]\n",
            " [0. 0. 0. 0. 0.]\n",
            " [0. 0. 0. 0. 0.]]\n"
          ]
        }
      ]
    },
    {
      "cell_type": "code",
      "source": [
        "x = np.ones((4,5))\n",
        "print(x)"
      ],
      "metadata": {
        "colab": {
          "base_uri": "https://localhost:8080/"
        },
        "id": "Q_6sguPfCm_M",
        "outputId": "0f852494-5c46-4083-f549-c974bcef1933"
      },
      "execution_count": 19,
      "outputs": [
        {
          "output_type": "stream",
          "name": "stdout",
          "text": [
            "[[1. 1. 1. 1. 1.]\n",
            " [1. 1. 1. 1. 1.]\n",
            " [1. 1. 1. 1. 1.]\n",
            " [1. 1. 1. 1. 1.]]\n"
          ]
        }
      ]
    },
    {
      "cell_type": "code",
      "source": [
        "x = np.full((4,5),3)\n",
        "print(x)"
      ],
      "metadata": {
        "colab": {
          "base_uri": "https://localhost:8080/"
        },
        "id": "xUg68DXtCsuV",
        "outputId": "23221c45-0030-47cf-9f9e-4be8d6417877"
      },
      "execution_count": 20,
      "outputs": [
        {
          "output_type": "stream",
          "name": "stdout",
          "text": [
            "[[3 3 3 3 3]\n",
            " [3 3 3 3 3]\n",
            " [3 3 3 3 3]\n",
            " [3 3 3 3 3]]\n"
          ]
        }
      ]
    },
    {
      "cell_type": "code",
      "source": [
        "#create a identity matrix\n",
        "a = np.eye(5)\n",
        "print(a)"
      ],
      "metadata": {
        "colab": {
          "base_uri": "https://localhost:8080/"
        },
        "id": "E2JfCTfDCu7Y",
        "outputId": "81513412-9bc5-48e8-c17d-7aa97d01da9e"
      },
      "execution_count": 23,
      "outputs": [
        {
          "output_type": "stream",
          "name": "stdout",
          "text": [
            "[[1. 0. 0. 0. 0.]\n",
            " [0. 1. 0. 0. 0.]\n",
            " [0. 0. 1. 0. 0.]\n",
            " [0. 0. 0. 1. 0.]\n",
            " [0. 0. 0. 0. 1.]]\n"
          ]
        }
      ]
    },
    {
      "cell_type": "code",
      "source": [
        "#create a numpy array with random values\n",
        "b = np.random.random((3,4))\n",
        "print(b)"
      ],
      "metadata": {
        "colab": {
          "base_uri": "https://localhost:8080/"
        },
        "id": "VSLBHeQEC0IP",
        "outputId": "9956cd47-6209-4c43-8091-82dc031791a4"
      },
      "execution_count": 26,
      "outputs": [
        {
          "output_type": "stream",
          "name": "stdout",
          "text": [
            "[[0.93013417 0.65623332 0.25617071 0.99727898]\n",
            " [0.69142585 0.69078007 0.79399168 0.68615308]\n",
            " [0.03981826 0.6413871  0.23451854 0.24328373]]\n"
          ]
        }
      ]
    },
    {
      "cell_type": "code",
      "source": [
        "#random integer values array , withing. a spectific range\n",
        "\n",
        "c = np.random.randint(10,200,(3,4))\n",
        "print(c)"
      ],
      "metadata": {
        "colab": {
          "base_uri": "https://localhost:8080/"
        },
        "id": "Hyfy6IRCDEB6",
        "outputId": "b5857cc9-42b7-42f7-851d-0bad6fc151e7"
      },
      "execution_count": 28,
      "outputs": [
        {
          "output_type": "stream",
          "name": "stdout",
          "text": [
            "[[194 128  83 169]\n",
            " [ 63  17 190 109]\n",
            " [ 98  99  78  15]]\n"
          ]
        }
      ]
    },
    {
      "cell_type": "code",
      "source": [
        "#create  an array of evenly spaced values\n",
        "d = np.linspace(10,30,5)\n",
        "print(d)"
      ],
      "metadata": {
        "colab": {
          "base_uri": "https://localhost:8080/"
        },
        "id": "OH5oOYjxDO-u",
        "outputId": "825f2d93-add5-4ae9-ad28-82c7e4da21e2"
      },
      "execution_count": 30,
      "outputs": [
        {
          "output_type": "stream",
          "name": "stdout",
          "text": [
            "[10. 15. 20. 25. 30.]\n"
          ]
        }
      ]
    },
    {
      "cell_type": "code",
      "source": [
        "#array of evenly spaced values  --> specifying the step\n",
        "\n",
        "e = np.arange(10, 30 , 5)\n",
        "print(e)"
      ],
      "metadata": {
        "colab": {
          "base_uri": "https://localhost:8080/"
        },
        "id": "MdQQX7xsDXj5",
        "outputId": "dbb12bbd-e7b1-4092-aa5b-a70134a1ba74"
      },
      "execution_count": 32,
      "outputs": [
        {
          "output_type": "stream",
          "name": "stdout",
          "text": [
            "[10 15 20 25]\n"
          ]
        }
      ]
    },
    {
      "cell_type": "code",
      "source": [
        "#convert a list to NP array\n",
        "list2 = [10,20,30,40,50]\n",
        "np_array = np.array(list2)\n",
        "print(np_array)\n",
        "type(np_array)"
      ],
      "metadata": {
        "colab": {
          "base_uri": "https://localhost:8080/"
        },
        "id": "bYhdhCVxDj0K",
        "outputId": "3741a8e4-ce36-4373-c319-2c50d6b4b84a"
      },
      "execution_count": 35,
      "outputs": [
        {
          "output_type": "stream",
          "name": "stdout",
          "text": [
            "[10 20 30 40 50]\n"
          ]
        },
        {
          "output_type": "execute_result",
          "data": {
            "text/plain": [
              "numpy.ndarray"
            ]
          },
          "metadata": {},
          "execution_count": 35
        }
      ]
    },
    {
      "cell_type": "code",
      "source": [
        "c = np.random.randint(10, 90, (5,5))\n",
        "print(c)"
      ],
      "metadata": {
        "colab": {
          "base_uri": "https://localhost:8080/"
        },
        "id": "jrIptO4qD1TN",
        "outputId": "ef81ef94-d90b-44fa-c72a-005a86ef6704"
      },
      "execution_count": 36,
      "outputs": [
        {
          "output_type": "stream",
          "name": "stdout",
          "text": [
            "[[59 77 76 83 69]\n",
            " [26 76 66 72 42]\n",
            " [47 71 84 34 86]\n",
            " [47 66 58 54 53]\n",
            " [57 66 39 50 39]]\n"
          ]
        }
      ]
    },
    {
      "cell_type": "code",
      "source": [
        "#array dimentions\n",
        "print(c.shape)\n"
      ],
      "metadata": {
        "colab": {
          "base_uri": "https://localhost:8080/"
        },
        "id": "HBVtJ_PvEHZC",
        "outputId": "896c5e23-f50e-46c2-ce23-83173ba15858"
      },
      "execution_count": 37,
      "outputs": [
        {
          "output_type": "stream",
          "name": "stdout",
          "text": [
            "(5, 5)\n"
          ]
        }
      ]
    },
    {
      "cell_type": "code",
      "source": [
        "#number of dimenstions\n",
        "print(c.ndim)"
      ],
      "metadata": {
        "colab": {
          "base_uri": "https://localhost:8080/"
        },
        "id": "gFTb39EoEKo7",
        "outputId": "6dc56988-4f79-445a-8ade-2330d9fa6890"
      },
      "execution_count": 38,
      "outputs": [
        {
          "output_type": "stream",
          "name": "stdout",
          "text": [
            "2\n"
          ]
        }
      ]
    },
    {
      "cell_type": "code",
      "source": [
        "#number of elements in the array\n",
        "print(c.size)"
      ],
      "metadata": {
        "colab": {
          "base_uri": "https://localhost:8080/"
        },
        "id": "bXmhijPNENWV",
        "outputId": "2e920708-edee-45ee-eea0-89010a0b8ba1"
      },
      "execution_count": 39,
      "outputs": [
        {
          "output_type": "stream",
          "name": "stdout",
          "text": [
            "25\n"
          ]
        }
      ]
    },
    {
      "cell_type": "code",
      "source": [
        "#checking the data type of the vlaue sin array\n",
        "print(c.dtype)"
      ],
      "metadata": {
        "colab": {
          "base_uri": "https://localhost:8080/"
        },
        "id": "x1yUScifETU3",
        "outputId": "d4eca130-0061-4b21-a3cc-f460b7a289f0"
      },
      "execution_count": 40,
      "outputs": [
        {
          "output_type": "stream",
          "name": "stdout",
          "text": [
            "int64\n"
          ]
        }
      ]
    },
    {
      "cell_type": "markdown",
      "source": [
        "mathematical operations on Numpy Array"
      ],
      "metadata": {
        "id": "xmAdM_1HEZ0O"
      }
    },
    {
      "cell_type": "code",
      "source": [
        "list1 = [1,2,3,4,5]\n",
        "list2 = [6,7,8,9,10]\n",
        "print(list1 + list2) #here it is not adding the elements"
      ],
      "metadata": {
        "colab": {
          "base_uri": "https://localhost:8080/"
        },
        "id": "rV4PfBEBEZm7",
        "outputId": "71e35026-d8cf-4b57-f29c-75a51ec073ae"
      },
      "execution_count": 43,
      "outputs": [
        {
          "output_type": "stream",
          "name": "stdout",
          "text": [
            "[1, 2, 3, 4, 5, 6, 7, 8, 9, 10]\n"
          ]
        }
      ]
    },
    {
      "cell_type": "code",
      "source": [
        "a = np.random.randint(0,10,(3,3))\n",
        "b = np.random.randint(10,20,(3,3))\n",
        "print(a)\n",
        "print(b)"
      ],
      "metadata": {
        "colab": {
          "base_uri": "https://localhost:8080/"
        },
        "id": "DZ4nhyg-EWwZ",
        "outputId": "1998e7a4-db58-4793-c3cc-22d013e6833f"
      },
      "execution_count": 57,
      "outputs": [
        {
          "output_type": "stream",
          "name": "stdout",
          "text": [
            "[[6 2 4]\n",
            " [4 6 0]\n",
            " [2 9 4]]\n",
            "[[18 13 17]\n",
            " [17 14 10]\n",
            " [17 19 15]]\n"
          ]
        }
      ]
    },
    {
      "cell_type": "code",
      "source": [
        "print(a+b)\n",
        "\n",
        "print(a-b)\n",
        "print(a*b)\n",
        "print(a/b)"
      ],
      "metadata": {
        "colab": {
          "base_uri": "https://localhost:8080/"
        },
        "id": "dKSfq4HJEvz5",
        "outputId": "06205f8e-b971-41e0-c89f-8cd0ae7243ed"
      },
      "execution_count": 58,
      "outputs": [
        {
          "output_type": "stream",
          "name": "stdout",
          "text": [
            "[[24 15 21]\n",
            " [21 20 10]\n",
            " [19 28 19]]\n",
            "[[-12 -11 -13]\n",
            " [-13  -8 -10]\n",
            " [-15 -10 -11]]\n",
            "[[108  26  68]\n",
            " [ 68  84   0]\n",
            " [ 34 171  60]]\n",
            "[[0.33333333 0.15384615 0.23529412]\n",
            " [0.23529412 0.42857143 0.        ]\n",
            " [0.11764706 0.47368421 0.26666667]]\n"
          ]
        }
      ]
    },
    {
      "cell_type": "code",
      "source": [
        "print(np.add(a,b))\n",
        "print(np.subtract(a,b))\n",
        "print(np.multiply(a,b))\n",
        "print(np.divide(a,b))"
      ],
      "metadata": {
        "colab": {
          "base_uri": "https://localhost:8080/"
        },
        "id": "kbUwQWLFFLP_",
        "outputId": "ce871fa9-ad64-471a-c11d-2ae5cd764836"
      },
      "execution_count": 59,
      "outputs": [
        {
          "output_type": "stream",
          "name": "stdout",
          "text": [
            "[[24 15 21]\n",
            " [21 20 10]\n",
            " [19 28 19]]\n",
            "[[-12 -11 -13]\n",
            " [-13  -8 -10]\n",
            " [-15 -10 -11]]\n",
            "[[108  26  68]\n",
            " [ 68  84   0]\n",
            " [ 34 171  60]]\n",
            "[[0.33333333 0.15384615 0.23529412]\n",
            " [0.23529412 0.42857143 0.        ]\n",
            " [0.11764706 0.47368421 0.26666667]]\n"
          ]
        }
      ]
    },
    {
      "cell_type": "markdown",
      "source": [
        "array manipulation"
      ],
      "metadata": {
        "id": "lOnwCqL1Fitp"
      }
    },
    {
      "cell_type": "code",
      "source": [
        "array = np.random.randint(0,10, (2,3))\n",
        "print(array)\n",
        "print(array.shape)"
      ],
      "metadata": {
        "colab": {
          "base_uri": "https://localhost:8080/"
        },
        "id": "1bBD9ANIE7CI",
        "outputId": "25f37b05-c207-4c8e-ba6a-a2460dd9f1d2"
      },
      "execution_count": 60,
      "outputs": [
        {
          "output_type": "stream",
          "name": "stdout",
          "text": [
            "[[9 3 2]\n",
            " [6 6 1]]\n",
            "(2, 3)\n"
          ]
        }
      ]
    },
    {
      "cell_type": "code",
      "source": [
        "#transpose\n",
        "trans = np.transpose(array)"
      ],
      "metadata": {
        "id": "cdw1WXkdFnZ3"
      },
      "execution_count": 61,
      "outputs": []
    },
    {
      "cell_type": "code",
      "source": [
        "print(trans)\n",
        "print(trans.shape)"
      ],
      "metadata": {
        "colab": {
          "base_uri": "https://localhost:8080/"
        },
        "id": "2DfqdHqZFrle",
        "outputId": "6898a86a-1907-4ceb-f579-0cb7530c80eb"
      },
      "execution_count": 63,
      "outputs": [
        {
          "output_type": "stream",
          "name": "stdout",
          "text": [
            "[[9 6]\n",
            " [3 6]\n",
            " [2 1]]\n",
            "(3, 2)\n"
          ]
        }
      ]
    },
    {
      "cell_type": "code",
      "source": [
        "trans2 = array.T\n",
        "print(trans2)\n",
        "print(trans2.shape)"
      ],
      "metadata": {
        "colab": {
          "base_uri": "https://localhost:8080/"
        },
        "id": "f90eNPfKFt5i",
        "outputId": "9acbfede-51a4-40e4-e41a-923a01e42de3"
      },
      "execution_count": 64,
      "outputs": [
        {
          "output_type": "stream",
          "name": "stdout",
          "text": [
            "[[9 6]\n",
            " [3 6]\n",
            " [2 1]]\n",
            "(3, 2)\n"
          ]
        }
      ]
    },
    {
      "cell_type": "code",
      "source": [
        "#reshaping an array\n",
        "a = np.random.randint(0, 10 , (2,3))\n",
        "print(a)\n",
        "print(a.shape)"
      ],
      "metadata": {
        "colab": {
          "base_uri": "https://localhost:8080/"
        },
        "id": "qCIbJMlXF0bs",
        "outputId": "78747734-1e80-44c2-849f-17aaec70b929"
      },
      "execution_count": 65,
      "outputs": [
        {
          "output_type": "stream",
          "name": "stdout",
          "text": [
            "[[7 9 1]\n",
            " [8 0 5]]\n",
            "(2, 3)\n"
          ]
        }
      ]
    },
    {
      "cell_type": "code",
      "source": [
        "b = a.reshape(3,2)"
      ],
      "metadata": {
        "id": "2bmAk-WoF86t"
      },
      "execution_count": 66,
      "outputs": []
    },
    {
      "cell_type": "code",
      "source": [
        "print(b)\n",
        "print(b.shape)"
      ],
      "metadata": {
        "colab": {
          "base_uri": "https://localhost:8080/"
        },
        "id": "o1LY2RJ_F_xK",
        "outputId": "2d152cc8-96e5-4d89-c680-cbb9d7991536"
      },
      "execution_count": 67,
      "outputs": [
        {
          "output_type": "stream",
          "name": "stdout",
          "text": [
            "[[7 9]\n",
            " [1 8]\n",
            " [0 5]]\n",
            "(3, 2)\n"
          ]
        }
      ]
    },
    {
      "cell_type": "code",
      "source": [],
      "metadata": {
        "id": "kc83GvD4GGHs"
      },
      "execution_count": null,
      "outputs": []
    }
  ]
}